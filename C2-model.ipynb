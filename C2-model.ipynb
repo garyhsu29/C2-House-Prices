{
 "cells": [
  {
   "cell_type": "code",
   "execution_count": null,
   "metadata": {},
   "outputs": [],
   "source": [
    "import pandas as pd\n",
    "import numpy as np\n",
    "train = pd.read_csv('train.csv')\n",
    "test = pd.read_csv('test.csv')\n",
    "\n",
    "full_data = [train,test]\n",
    "print(train.info())"
   ]
  },
  {
   "cell_type": "markdown",
   "metadata": {},
   "source": [
    "# Step 2 : drop the rwo have too much N/A"
   ]
  },
  {
   "cell_type": "code",
   "execution_count": null,
   "metadata": {},
   "outputs": [],
   "source": [
    "from collections import Counter\n",
    "train['NA_count'] = train.isna().sum(axis=1)\n",
    "train.dropna(thresh=74,inplace=True)\n",
    "na_seq = train.isna().sum()\n",
    "#na_seq[na_seq > 0]\n",
    "train"
   ]
  },
  {
   "cell_type": "markdown",
   "metadata": {},
   "source": [
    "# Step 3 : deal with LotFrontage"
   ]
  },
  {
   "cell_type": "code",
   "execution_count": null,
   "metadata": {},
   "outputs": [],
   "source": [
    "lot_avg = train['LotFrontage'].mean()\n",
    "lot_std = train['LotFrontage'].std()\n",
    "lot_null_list_sum = train['LotFrontage'].isnull().sum()\n",
    "lot_rand_list = np.random.randint(lot_avg-lot_std,lot_avg+lot_std,lot_null_list_sum)\n",
    "train['LotFrontage'][np.isnan(train['LotFrontage'])] = lot_rand_list\n",
    "train['AreaCatagorical'] = pd.qcut(train['LotArea'],4)\n",
    "print(train[['AreaCatagorical','SalePrice']].groupby('AreaCatagorical').mean())\n",
    "na_seq = train.isna().sum()\n",
    "na_seq[na_seq>0]"
   ]
  },
  {
   "cell_type": "markdown",
   "metadata": {},
   "source": [
    "# Step 4: MasVnrType (missing 8) use mode to fill"
   ]
  },
  {
   "cell_type": "code",
   "execution_count": null,
   "metadata": {},
   "outputs": [],
   "source": [
    "train['MasVnrType'] = train['MasVnrType'].fillna(value = train['MasVnrType'].mode()[0])\n",
    "print(train[['MasVnrType','SalePrice']].groupby('MasVnrType').mean())\n",
    "na_seq = train.isna().sum()\n",
    "na_seq[na_seq>0]"
   ]
  },
  {
   "cell_type": "markdown",
   "metadata": {},
   "source": [
    "# Step 5: MasVnrArea transform from numeric to catagorical data"
   ]
  },
  {
   "cell_type": "code",
   "execution_count": null,
   "metadata": {},
   "outputs": [],
   "source": [
    "train['MasVnrArea'] = train['MasVnrArea'].fillna(value = train['MasVnrArea'].mode()[0])\n",
    "train['MasVnrAreaCategorical'] = pd.cut(train['MasVnrArea'],5)\n",
    "print(train[['MasVnrAreaCategorical','SalePrice']].groupby('MasVnrAreaCategorical').mean())\n",
    "na_seq = train.isna().sum()\n",
    "na_seq[na_seq>0]"
   ]
  },
  {
   "cell_type": "markdown",
   "metadata": {},
   "source": [
    "# Step 6: BsmtQual have 4 catagory Ex(121) Fa(32) Gd(601) TA(598)"
   ]
  },
  {
   "cell_type": "code",
   "execution_count": null,
   "metadata": {},
   "outputs": [],
   "source": [
    "train['BsmtQual'].fillna(value = train['BsmtQual'].mode()[0],inplace = True)\n",
    "print(train[['BsmtQual','SalePrice']].groupby('BsmtQual').mean())\n",
    "na_seq = train.isna().sum()\n",
    "na_seq[na_seq>0]"
   ]
  },
  {
   "cell_type": "markdown",
   "metadata": {},
   "source": [
    "# 7. BsmtCond filled by mode"
   ]
  },
  {
   "cell_type": "code",
   "execution_count": null,
   "metadata": {},
   "outputs": [],
   "source": [
    "train['BsmtCond'].fillna(value = train['BsmtCond'].mode()[0],inplace = True)\n",
    "print(train[['BsmtCond','SalePrice']].groupby('BsmtCond').mean())\n",
    "na_seq = train.isna().sum()\n",
    "na_seq[na_seq>0]"
   ]
  },
  {
   "cell_type": "code",
   "execution_count": null,
   "metadata": {},
   "outputs": [],
   "source": [
    "train['BsmtExposure'].fillna(value = train['BsmtExposure'].mode()[0],inplace = True)\n",
    "print(train[['BsmtExposure','SalePrice']].groupby('BsmtExposure').mean())\n",
    "na_seq = train.isna().sum()\n",
    "na_seq[na_seq>0]"
   ]
  },
  {
   "cell_type": "markdown",
   "metadata": {},
   "source": [
    "# 8. BsmtFinType1 filled by mode"
   ]
  },
  {
   "cell_type": "code",
   "execution_count": null,
   "metadata": {},
   "outputs": [],
   "source": [
    "train['BsmtFinType1'].fillna(value = train['BsmtFinType1'].mode()[0],inplace = True)\n",
    "print(train[['BsmtFinType1','SalePrice']].groupby('BsmtFinType1').mean())\n",
    "na_seq = train.isna().sum()\n",
    "na_seq[na_seq>0]"
   ]
  },
  {
   "cell_type": "markdown",
   "metadata": {},
   "source": [
    "# 9. BsmtFinType2 filled by mode"
   ]
  },
  {
   "cell_type": "code",
   "execution_count": null,
   "metadata": {},
   "outputs": [],
   "source": [
    "train['BsmtFinType2'].fillna(value = train['BsmtFinType2'].mode()[0],inplace = True)\n",
    "print(train[['BsmtFinType2','SalePrice']].groupby('BsmtFinType2').mean())\n",
    "na_seq = train.isna().sum()\n",
    "na_seq[na_seq>0]"
   ]
  },
  {
   "cell_type": "markdown",
   "metadata": {},
   "source": [
    "# 10. Electrical filled by mode"
   ]
  },
  {
   "cell_type": "code",
   "execution_count": null,
   "metadata": {},
   "outputs": [],
   "source": [
    "train['Electrical'].fillna(value = train['Electrical'].mode()[0],inplace = True)\n",
    "print(train[['Electrical','SalePrice']].groupby('Electrical').mean())\n",
    "na_seq = train.isna().sum()\n",
    "na_seq[na_seq>0]"
   ]
  },
  {
   "cell_type": "markdown",
   "metadata": {},
   "source": [
    "# 11. GarageType filled by mode"
   ]
  },
  {
   "cell_type": "code",
   "execution_count": null,
   "metadata": {},
   "outputs": [],
   "source": [
    "train['GarageType'].fillna(value = train['GarageType'].mode()[0],inplace = True)\n",
    "print(train[['GarageType','SalePrice']].groupby('GarageType').mean())\n",
    "na_seq = train.isna().sum()\n",
    "na_seq[na_seq>0]"
   ]
  },
  {
   "cell_type": "markdown",
   "metadata": {},
   "source": [
    "# 12. GarageYrBlt filled by mode and change to cate\n",
    "# ############################################ need to be removed\n"
   ]
  },
  {
   "cell_type": "code",
   "execution_count": null,
   "metadata": {},
   "outputs": [],
   "source": [
    "train['GarageYrBlt'].fillna(value = train['GarageYrBlt'].mode()[0],inplace = True)\n",
    "train['CATE_GarageYrBlt'] = pd.qcut(train['GarageYrBlt'],5)\n",
    "print(train[['CATE_GarageYrBlt','SalePrice']].groupby('CATE_GarageYrBlt').mean())\n",
    "na_seq = train.isna().sum()\n",
    "na_seq[na_seq>0]"
   ]
  },
  {
   "cell_type": "code",
   "execution_count": null,
   "metadata": {},
   "outputs": [],
   "source": [
    "train['GarageFinish'].fillna(value = train['GarageFinish'].mode()[0],inplace = True)\n",
    "print(train[['GarageFinish','SalePrice']].groupby('GarageFinish').mean())\n",
    "na_seq = train.isna().sum()\n",
    "na_seq[na_seq>0]"
   ]
  },
  {
   "cell_type": "code",
   "execution_count": null,
   "metadata": {},
   "outputs": [],
   "source": [
    "train['GarageQual'].fillna(value = train['GarageQual'].mode()[0],inplace = True)\n",
    "print(train[['GarageQual','SalePrice']].groupby('GarageQual').mean())\n",
    "na_seq = train.isna().sum()\n",
    "na_seq[na_seq>0]"
   ]
  },
  {
   "cell_type": "code",
   "execution_count": null,
   "metadata": {},
   "outputs": [],
   "source": [
    "train['GarageCond'].fillna(value = train['GarageCond'].mode()[0],inplace = True)\n",
    "print(train[['GarageCond','SalePrice']].groupby('GarageCond').mean())\n",
    "na_seq = train.isna().sum()\n",
    "na_seq[na_seq>0]"
   ]
  },
  {
   "cell_type": "code",
   "execution_count": null,
   "metadata": {},
   "outputs": [],
   "source": [
    "train['FireplaceQu'].fillna('unknown',inplace=True)\n",
    "print(train[['FireplaceQu','SalePrice']].groupby('FireplaceQu').mean())"
   ]
  },
  {
   "cell_type": "markdown",
   "metadata": {},
   "source": [
    "# After dealing with missing value -> start to analyze the data"
   ]
  },
  {
   "cell_type": "code",
   "execution_count": null,
   "metadata": {},
   "outputs": [],
   "source": [
    "cont_list = [Counter(train[col]) for col in train.columns]\n",
    "columns = train.columns"
   ]
  },
  {
   "cell_type": "code",
   "execution_count": null,
   "metadata": {},
   "outputs": [],
   "source": [
    "train"
   ]
  },
  {
   "cell_type": "code",
   "execution_count": 1,
   "metadata": {},
   "outputs": [],
   "source": [
    "import pandas as pd\n",
    "import numpy as np\n",
    "train = pd.read_csv('train.csv')\n",
    "test = pd.read_csv('test.csv')"
   ]
  },
  {
   "cell_type": "code",
   "execution_count": 2,
   "metadata": {},
   "outputs": [],
   "source": [
    "def drop_cols_name(data):\n",
    "    na_count = data.isna().sum()\n",
    "    total = len(data.index)\n",
    "    threshold = 0.2*total\n",
    "    return (list(na_count[na_count>threshold].index))"
   ]
  },
  {
   "cell_type": "code",
   "execution_count": 3,
   "metadata": {},
   "outputs": [
    {
     "data": {
      "text/plain": [
       "{'Alley', 'Fence', 'FireplaceQu', 'Id', 'MiscFeature', 'PoolQC'}"
      ]
     },
     "execution_count": 3,
     "metadata": {},
     "output_type": "execute_result"
    }
   ],
   "source": [
    "drop_cols_test = drop_cols_name(test)\n",
    "drop_cols_train = drop_cols_name(train)\n",
    "cols_name = set(drop_cols_test+drop_cols_train+['Id'])\n",
    "cols_name"
   ]
  },
  {
   "cell_type": "markdown",
   "metadata": {},
   "source": [
    "# Preprocessing the missing value"
   ]
  },
  {
   "cell_type": "code",
   "execution_count": 4,
   "metadata": {},
   "outputs": [],
   "source": [
    "from collections import Counter\n",
    "def data_prepro(data,dtype,drop_columns):\n",
    "    if dtype == 'train':\n",
    "        data['NA_count'] = pd.Series(train.isna().sum(axis=1))\n",
    "        thresh = data['NA_count'].quantile(0.95)\n",
    "        data = data[data['NA_count'] < thresh]\n",
    "        data = data.drop('NA_count',axis=1)\n",
    "        \n",
    "    if dtype == 'test':\n",
    "        data['MSZoning'] = data['MSZoning'].fillna(value = data['MSZoning'].mode()[0])\n",
    "        data['Utilities'] = data['Utilities'].fillna(value = data['Utilities'].mode()[0])\n",
    "        data['Exterior1st'] = data['Exterior1st'].fillna(value = data['Exterior1st'].mode()[0])\n",
    "        data['Exterior2nd'] = data['Exterior2nd'].fillna(value = data['Exterior2nd'].mode()[0])\n",
    "        data['BsmtFinSF1'] = data['BsmtFinSF1'].fillna(value = data['BsmtFinSF1'].median())\n",
    "        data['BsmtFinSF2'] = data['BsmtFinSF2'].fillna(value = data['BsmtFinSF2'].median())\n",
    "        data['BsmtUnfSF'] = data['BsmtUnfSF'].fillna(value = data['BsmtUnfSF'].median())\n",
    "        data['TotalBsmtSF'] = data['TotalBsmtSF'].fillna(value = data['TotalBsmtSF'].median())\n",
    "        data['BsmtFullBath'] = data['BsmtFullBath'].fillna(value = data['BsmtFullBath'].mode()[0])\n",
    "        data['BsmtHalfBath'] = data['BsmtHalfBath'].fillna(value = data['BsmtHalfBath'].mode()[0])\n",
    "        data['KitchenQual'] = data['KitchenQual'].fillna(value = data['KitchenQual'].mode()[0])\n",
    "        data['Functional'] = data['Functional'].fillna(value = data['Functional'].mode()[0])\n",
    "        data['GarageCars'] = data['GarageCars'].fillna(value = data['GarageCars'].mode()[0])\n",
    "        data['GarageArea'] = data['GarageArea'].fillna(value = data['GarageArea'].median())\n",
    "        data['SaleType'] = data['SaleType'].fillna(value = data['SaleType'].mode()[0])\n",
    "        \n",
    "        \n",
    "    data = data.drop(drop_columns,axis=1)\n",
    "    \n",
    "    lot_avg = data['LotFrontage'].mean()\n",
    "    lot_std = data['LotFrontage'].std()\n",
    "    lot_null_list_sum = data['LotFrontage'].isnull().sum()\n",
    "    lot_rand_list = np.random.randint(lot_avg - lot_std, lot_avg + lot_std, lot_null_list_sum)\n",
    "    data['LotFrontage'][np.isnan(data['LotFrontage'])] = lot_rand_list\n",
    "    data['AreaCatagorical'] = pd.qcut(data['LotArea'], 4)\n",
    "    data = data.drop('LotFrontage', axis = 1)\n",
    "    data['MasVnrType'] = data['MasVnrType'].fillna(value = data['MasVnrType'].mode()[0])\n",
    "    data['MasVnrArea'] = data['MasVnrArea'].fillna(value = data['MasVnrArea'].mode()[0])\n",
    "    data['MasVnrAreaCategorical'] = pd.cut(data['MasVnrArea'],5)\n",
    "    data = data.drop('MasVnrArea', axis = 1)\n",
    "    data['BsmtQual'] = data['BsmtQual'].fillna(value = data['BsmtQual'].mode()[0])\n",
    "    data['BsmtCond'] = data['BsmtCond'].fillna(value = data['BsmtCond'].mode()[0])\n",
    "    data['BsmtExposure'] = data['BsmtExposure'].fillna(value = data['BsmtExposure'].mode()[0])\n",
    "    data['BsmtFinType1'] = data['BsmtFinType1'].fillna(value = data['BsmtFinType1'].mode()[0])\n",
    "    data['BsmtFinType2'] = data['BsmtFinType2'].fillna(value = data['BsmtFinType2'].mode()[0])\n",
    "    data['Electrical'] = data['Electrical'].fillna(value = data['Electrical'].mode()[0])\n",
    "    data['GarageType'] = data['GarageType'].fillna(value = data['GarageType'].mode()[0])\n",
    "    data['GarageYrBlt'] = data['GarageYrBlt'].fillna(value = data['GarageYrBlt'].mode()[0])\n",
    "    data['CATE_GarageYrBlt'] = pd.qcut(data['GarageYrBlt'],5)\n",
    "    data = data.drop('GarageYrBlt',axis=1)\n",
    "    data['GarageFinish'] = data['GarageFinish'].fillna(value = data['GarageFinish'].mode()[0])\n",
    "    data['GarageQual'] = data['GarageQual'].fillna(value = data['GarageQual'].mode()[0])\n",
    "    data['GarageCond'] = data['GarageCond'].fillna(value = data['GarageCond'].mode()[0])\n",
    "    return data\n"
   ]
  },
  {
   "cell_type": "code",
   "execution_count": 5,
   "metadata": {},
   "outputs": [
    {
     "name": "stderr",
     "output_type": "stream",
     "text": [
      "/anaconda3/envs/python3/lib/python3.6/site-packages/ipykernel_launcher.py:33: SettingWithCopyWarning: \n",
      "A value is trying to be set on a copy of a slice from a DataFrame\n",
      "\n",
      "See the caveats in the documentation: http://pandas.pydata.org/pandas-docs/stable/indexing.html#indexing-view-versus-copy\n",
      "/anaconda3/envs/python3/lib/python3.6/site-packages/ipykernel_launcher.py:33: SettingWithCopyWarning: \n",
      "A value is trying to be set on a copy of a slice from a DataFrame\n",
      "\n",
      "See the caveats in the documentation: http://pandas.pydata.org/pandas-docs/stable/indexing.html#indexing-view-versus-copy\n"
     ]
    }
   ],
   "source": [
    "#train_columns = data_prepro(train,'train',cols_name).columns\n",
    "#test_columns = data_prepro(test,'test',cols_name).columns\n",
    "new_train = data_prepro(train,'train',cols_name)\n",
    "new_test = data_prepro(test,'test',cols_name)\n",
    "#new_t['FireplaceQu']"
   ]
  },
  {
   "cell_type": "code",
   "execution_count": 6,
   "metadata": {},
   "outputs": [],
   "source": [
    "new_train_data = new_train.drop('SalePrice',axis=1)\n",
    "new_train_label = new_train['SalePrice']\n",
    "train_data = pd.get_dummies(new_train_data)\n",
    "test_data = pd.get_dummies(new_test)\n",
    "train_col = set(train_data.columns)\n",
    "test_col = set(test_data.columns)\n",
    "keep_col = list(train_col & test_col)\n",
    "final_train = train_data[keep_col]\n",
    "final_test = test_data[keep_col]"
   ]
  },
  {
   "cell_type": "markdown",
   "metadata": {},
   "source": [
    "# Train / Test the data"
   ]
  },
  {
   "cell_type": "code",
   "execution_count": null,
   "metadata": {},
   "outputs": [],
   "source": [
    "from sklearn.ensemble import GradientBoostingRegressor\n",
    "from sklearn.model_selection import train_test_split\n",
    "from sklearn.metrics import roc_auc_score\n",
    "from sklearn.model_selection import cross_val_score\n",
    "from sklearn.model_selection import GridSearchCV\n",
    "\n",
    "grid_values = {'learning_rate':[0.5,0.1,0.05,0.01,0.005],'max_depth':[3,4,5,6]}\n",
    "gbr = GradientBoostingRegressor()\n",
    "\n",
    "grid_gbr_auc = GridSearchCV(gbr, param_grid = grid_values,cv=5)\n",
    "grid_gbr_auc.fit(final_train, new_train_label)\n",
    "#y_decision_fn_scores_auc = grid_gbr_auc.decision_function(X_test) \n",
    "#print('Test set AUC: ', roc_auc_score(y_test, y_decision_fn_scores_auc))\n",
    "print('Grid best parameter (max. AUC): ', grid_gbr_auc.best_params_)\n",
    "print('Grid best score : ', grid_gbr_auc.best_score_)"
   ]
  },
  {
   "cell_type": "code",
   "execution_count": null,
   "metadata": {},
   "outputs": [],
   "source": [
    "from sklearn.ensemble import GradientBoostingRegressor\n",
    "gbr_with_best_p = GradientBoostingRegressor(learning_rate=0.1,max_depth=3)\n",
    "gbr_with_best_p.fit(final_train,new_train_label)\n",
    "pred_res = gbr_with_best_p.predict(final_test)\n",
    "pred_res"
   ]
  },
  {
   "cell_type": "code",
   "execution_count": null,
   "metadata": {},
   "outputs": [],
   "source": [
    "out_id = test['Id'].tolist()\n",
    "res_df = pd.DataFrame(data = pred_res,index = out_id,columns=['SalePrice'])\n",
    "res_df.index.name = 'Id'\n",
    "res_df.to_csv('prection1.csv')"
   ]
  },
  {
   "cell_type": "code",
   "execution_count": 7,
   "metadata": {},
   "outputs": [
    {
     "name": "stdout",
     "output_type": "stream",
     "text": [
      "Grid best parameter (max. AUC):  {'C': 0.1, 'gamma': 0.1, 'kernel': 'poly'}\n",
      "Grid best score (AUC):  -0.0446941416113\n"
     ]
    }
   ],
   "source": [
    "from sklearn.svm import SVR\n",
    "from sklearn.model_selection import GridSearchCV\n",
    "\n",
    "from sklearn.model_selection import train_test_split\n",
    "from sklearn.preprocessing import MinMaxScaler\n",
    "\n",
    "scaler = MinMaxScaler()\n",
    "X_train_scaled = scaler.fit_transform(final_train)\n",
    "#X_test_scaled = scaler.transform(X_test_withou_id)\n",
    "\n",
    "clf = SVR()\n",
    "grid_values = {'kernel':['rbf','linear','poly'],'C':[0.1,0.001,0.01],'gamma': [0.001,0.05,0.1]}\n",
    "\n",
    "\n",
    "#  metric to optimize over grid parameters: AUC\n",
    "grid_clf_auc = GridSearchCV(clf, param_grid = grid_values,cv=5)\n",
    "grid_clf_auc.fit(X_train_scaled, new_train_label)\n",
    "#y_decision_fn_scores_auc = grid_clf_auc.decision_function(X_test_scaled) \n",
    "\n",
    "#print('Test set AUC: ', roc_auc_scvore(y_test, y_decision_fn_scores_auc))\n",
    "print('Grid best parameter (max. AUC): ', grid_clf_auc.best_params_)\n",
    "print('Grid best score (AUC): ', grid_clf_auc.best_score_)"
   ]
  },
  {
   "cell_type": "code",
   "execution_count": 9,
   "metadata": {},
   "outputs": [],
   "source": [
    "from sklearn.svm import SVR\n",
    "from sklearn.preprocessing import MinMaxScaler\n",
    "scaler = MinMaxScaler()\n",
    "X_train_scaled = scaler.fit_transform(final_train)\n",
    "X_test_scaled = scaler.fit_transform(final_test)\n",
    "clf_svr = SVR(kernel='poly',gamma=0.1,C=0.1)\n",
    "clf_svr.fit(X_train_scaled,new_train_label)\n",
    "predict_res = clf_svr.predict(X_test_scaled)\n",
    "predict_res"
   ]
  },
  {
   "cell_type": "code",
   "execution_count": 10,
   "metadata": {},
   "outputs": [],
   "source": [
    "out_id = test['Id'].tolist()\n",
    "res_df = pd.DataFrame(data = predict_res,index = out_id,columns=['SalePrice'])\n",
    "res_df.index.name = 'Id'\n",
    "res_df.to_csv('prection2.csv')"
   ]
  },
  {
   "cell_type": "code",
   "execution_count": null,
   "metadata": {},
   "outputs": [],
   "source": [
    "from sklearn.svm import SVR\n",
    "from sklearn.model_selection import train_test_split\n",
    "\n",
    "\n",
    "scaler = MinMaxScaler()\n",
    "X_train_scaled = scaler.fit_transform(final_train)\n",
    "#X_test_scaled = scaler.transform(X_test_withou_id)\n",
    "\n",
    "clf = SVR()\n",
    "grid_values = {'kernel':['rbf','linear','poly'],'C':[0.1,0.001,0.01],'gamma': [0.001,0.05,0.1]}\n",
    "\n",
    "\n",
    "#  metric to optimize over grid parameters: AUC\n",
    "grid_clf_auc = GridSearchCV(clf, param_grid = grid_values,cv=5)\n",
    "grid_clf_auc.fit(X_train_scaled, new_train_label)\n",
    "#y_decision_fn_scores_auc = grid_clf_auc.decision_function(X_test_scaled) \n",
    "\n",
    "#print('Test set AUC: ', roc_auc_score(y_test, y_decision_fn_scores_auc))\n",
    "print('Grid best parameter (max. AUC): ', grid_clf_auc.best_params_)\n",
    "print('Grid best score (AUC): ', grid_clf_auc.best_score_)"
   ]
  },
  {
   "cell_type": "code",
   "execution_count": null,
   "metadata": {},
   "outputs": [],
   "source": []
  },
  {
   "cell_type": "code",
   "execution_count": null,
   "metadata": {},
   "outputs": [],
   "source": [
    "from sklearn.feature_selection import SelectKBest\n",
    "from sklearn.feature_selection import chi2\n",
    "#X = train.drop('SalePrice',axis=1)\n",
    "#Y= train['SalePrice']\n",
    "test = SelectKBest(score_func=chi2, k=4)\n",
    "fit = test.fit(new_train_data, new_train_label)\n",
    "# summarize scores\n",
    "numpy.set_printoptions(precision=3)\n",
    "print(fit.scores_)\n",
    "features = fit.transform(X)\n",
    "# summarize selected features\n",
    "print(features[0:5,:])"
   ]
  },
  {
   "cell_type": "code",
   "execution_count": null,
   "metadata": {},
   "outputs": [],
   "source": [
    "missing_val_train = [index for index,val in train.isnull().any().iteritems() if val]\n",
    "missing_val_test = [index for index,val in test.isnull().any().iteritems() if val]\n",
    "missing_val_train,missing_val_test"
   ]
  },
  {
   "cell_type": "markdown",
   "metadata": {},
   "source": [
    "# Feature engineering\n"
   ]
  },
  {
   "cell_type": "markdown",
   "metadata": {},
   "source": [
    "# Feature 1: MSSubClass\n",
    "Identifies the type of dwelling involved in the sale."
   ]
  },
  {
   "cell_type": "code",
   "execution_count": null,
   "metadata": {},
   "outputs": [],
   "source": [
    "train = pd.read_csv('train.csv')\n",
    "MSSubClass_map ={20:0,30:1,40:2,45:3,50:4,60:5,70:6,75:7,80:8,85:9,90:10,120:11,150:12,160:13,180:14,190:15}\n",
    "train['MSSubClass'] = train['MSSubClass'].map(MSSubClass_map)\n",
    "print(train[['MSSubClass','SalePrice']].groupby('MSSubClass').mean())\n",
    "#train['MSSubClass']"
   ]
  },
  {
   "cell_type": "markdown",
   "metadata": {},
   "source": [
    "# Feature2 : MSZoning \n",
    "Identifies the general zoning classification of the sale."
   ]
  },
  {
   "cell_type": "code",
   "execution_count": null,
   "metadata": {},
   "outputs": [],
   "source": [
    "MSZoning_max_map = {'A':0,'C':1,'FV':2,'I':3,'RH':4,'RL':5,'RP':6,'RM':7}\n",
    "train['MSZoning_max'] = train['MSZoning'].map(MSZoning_max_map)\n",
    "print(train[['MSZoning_max','SalePrice']].groupby('MSZoning_max').mean())"
   ]
  },
  {
   "cell_type": "markdown",
   "metadata": {},
   "source": [
    "# Feature3: LotFrontage"
   ]
  },
  {
   "cell_type": "code",
   "execution_count": null,
   "metadata": {},
   "outputs": [],
   "source": [
    "lot_avg = train['LotFrontage'].mean()\n",
    "lot_std = train['LotFrontage'].std()\n",
    "lot_null_list_sum = train['LotFrontage'].isnull().sum()\n",
    "lot_rand_list = np.random.randint(lot_avg-lot_std,lot_avg+lot_std,lot_null_list_sum)\n",
    "train['LotFrontage'][np.isnan(train['LotFrontage'])] = lot_rand_list\n",
    "train['AreaCatagorical'] = pd.qcut(train['LotArea'],4)\n",
    "print(train[['AreaCatagorical','SalePrice']].groupby('AreaCatagorical').mean())"
   ]
  },
  {
   "cell_type": "markdown",
   "metadata": {},
   "source": [
    "# Feature4: LotArea"
   ]
  },
  {
   "cell_type": "code",
   "execution_count": null,
   "metadata": {},
   "outputs": [],
   "source": [
    "train['CatagoricalLotArea'] = pd.qcut(train['LotArea'],5)\n",
    "train['CatagoricalLotArea']\n",
    "print(train[['CatagoricalLotArea','SalePrice']].groupby('CatagoricalLotArea').mean())"
   ]
  },
  {
   "cell_type": "markdown",
   "metadata": {},
   "source": [
    "# Feature5: Street\n",
    "Type of road access to property  \n",
    "       Grvl\tGravel\t\n",
    "       Pave\tPaved"
   ]
  },
  {
   "cell_type": "code",
   "execution_count": null,
   "metadata": {},
   "outputs": [],
   "source": [
    "print(train[['Street','SalePrice']].groupby('Street').mean())"
   ]
  },
  {
   "cell_type": "markdown",
   "metadata": {},
   "source": [
    "# Feature6: Alley"
   ]
  },
  {
   "cell_type": "markdown",
   "metadata": {},
   "source": [
    "Alley: Type of alley access to property\n",
    "\n",
    "       Grvl\tGravel\n",
    "       Pave\tPaved\n",
    "       NA \tNo alley access\n"
   ]
  },
  {
   "cell_type": "code",
   "execution_count": null,
   "metadata": {},
   "outputs": [],
   "source": [
    "train['Alley'].fillna('NA',inplace=True)\n",
    "print(train[['Alley','SalePrice']].groupby('Alley').mean())"
   ]
  },
  {
   "cell_type": "markdown",
   "metadata": {},
   "source": [
    "# Feature 7: LotShape\n",
    "General shape of property"
   ]
  },
  {
   "cell_type": "code",
   "execution_count": null,
   "metadata": {},
   "outputs": [],
   "source": [
    "print(train[['LotShape','SalePrice']].groupby('LotShape').mean())"
   ]
  },
  {
   "cell_type": "markdown",
   "metadata": {},
   "source": [
    "# Feature 8: LandContour\n",
    "Flatness of the property"
   ]
  },
  {
   "cell_type": "code",
   "execution_count": null,
   "metadata": {},
   "outputs": [],
   "source": [
    "print(train[['LandContour','SalePrice']].groupby('LandContour').mean())"
   ]
  },
  {
   "cell_type": "markdown",
   "metadata": {},
   "source": [
    "# Feature 9 :Utilities: \n",
    "Type of utilities available"
   ]
  },
  {
   "cell_type": "code",
   "execution_count": null,
   "metadata": {},
   "outputs": [],
   "source": [
    "print(train[['Utilities','SalePrice']].groupby('Utilities').mean())"
   ]
  },
  {
   "cell_type": "markdown",
   "metadata": {},
   "source": [
    "# Feature 10: MasVnrType\n",
    "Masonry veneer type"
   ]
  },
  {
   "cell_type": "code",
   "execution_count": null,
   "metadata": {},
   "outputs": [],
   "source": [
    "train = pd.read_csv('train.csv')\n",
    "#print(train[['MasVnrType','SalePrice']].groupby('MasVnrType').mean())\n",
    "train['MasVnrType'] = train['MasVnrType'].fillna(value = train['MasVnrType'].mode()[0])\n",
    "print(train[['MasVnrType','SalePrice']].groupby('MasVnrType').mean())"
   ]
  },
  {
   "cell_type": "markdown",
   "metadata": {},
   "source": [
    "# Feature 11: MasVnrArea"
   ]
  },
  {
   "cell_type": "code",
   "execution_count": null,
   "metadata": {},
   "outputs": [],
   "source": [
    "train['MasVnrArea'] = train['MasVnrArea'].fillna(value = train['MasVnrArea'].mode()[0])\n",
    "train['MasVnrAreaCategorical'] = pd.cut(train['MasVnrArea'],5)\n",
    "print(train[['MasVnrAreaCategorical','SalePrice']].groupby('MasVnrAreaCategorical').mean())"
   ]
  },
  {
   "cell_type": "markdown",
   "metadata": {},
   "source": [
    "# Feature 12 :BsmtQual \n",
    "Evaluates the height of the basement "
   ]
  },
  {
   "cell_type": "code",
   "execution_count": null,
   "metadata": {},
   "outputs": [],
   "source": [
    "train['BsmtQual'].fillna(value = 'Unknown',inplace=True)\n",
    "print(train[['BsmtQual','SalePrice']].groupby('BsmtQual').mean())"
   ]
  },
  {
   "cell_type": "markdown",
   "metadata": {},
   "source": [
    "# Feature 13: BsmtCond\n",
    "Evaluates the general condition of the basement"
   ]
  },
  {
   "cell_type": "code",
   "execution_count": null,
   "metadata": {},
   "outputs": [],
   "source": [
    "train['BsmtCond'].fillna(value = 'Unknown',inplace=True)\n",
    "print(train[['BsmtCond','SalePrice']].groupby('BsmtCond').mean())"
   ]
  },
  {
   "cell_type": "markdown",
   "metadata": {},
   "source": [
    "# Feature 14: BsmtExposure\n",
    "Refers to walkout or garden level walls"
   ]
  },
  {
   "cell_type": "code",
   "execution_count": null,
   "metadata": {},
   "outputs": [],
   "source": [
    "train['BsmtExposure'].count()\n",
    "print(train[['BsmtExposure','SalePrice']].groupby('BsmtExposure').count())"
   ]
  },
  {
   "cell_type": "markdown",
   "metadata": {},
   "source": [
    "# look at the dataset and delete which row have too many N/A"
   ]
  },
  {
   "cell_type": "code",
   "execution_count": null,
   "metadata": {},
   "outputs": [],
   "source": [
    "from collections import Counter\n",
    "train['NA_count'] = train.isna().sum(axis=1)\n",
    "train.dropna(thresh=74,inplace=True)\n",
    "na_seq = train.isna().sum()\n",
    "#na_seq[na_seq > 0]\n",
    "train"
   ]
  },
  {
   "cell_type": "code",
   "execution_count": null,
   "metadata": {},
   "outputs": [],
   "source": [
    "na_seq = train.isna().sum()\n",
    "na_seq[na_seq>0]"
   ]
  },
  {
   "cell_type": "code",
   "execution_count": null,
   "metadata": {},
   "outputs": [],
   "source": [
    "pd.options.mode.chained_assignment = None \n",
    "MSSubClass_map ={20:0,30:1,40:2,45:3,50:4,60:5,70:6,75:7,80:8,85:9,90:10,120:11,150:12,160:13,180:14,190:15}\n",
    "MSZoning_max_map = {'A':0,'C':1,'FV':2,'I':3,'RH':4,'RL':5,'RP':6,'RM':7}\n",
    "train['MSSubClass'] = train['MSSubClass'].map(MSSubClass_map)\n",
    "train['MSZoning_max'] = train['MSZoning'].map(MSZoning_max_map)\n",
    "lot_avg = train['LotFrontage'].mean()\n",
    "lot_std = train['LotFrontage'].std()\n",
    "lot_null_list_sum = train['LotFrontage'].isnull().sum()\n",
    "lot_rand_list = np.random.randint(lot_avg-lot_std,lot_avg+lot_std,lot_null_list_sum)\n",
    "train['LotFrontage'][np.isnan(train['LotFrontage'])] = lot_rand_list\n",
    "train['AreaCatagorical'] = pd.qcut(train['LotArea'],4)\n",
    "print(train[['AreaCatagorical',]],)"
   ]
  },
  {
   "cell_type": "code",
   "execution_count": null,
   "metadata": {},
   "outputs": [],
   "source": [
    "from sklearn.feature_selection import SelectKBest\n",
    "from sklearn.feature_selection import chi2\n",
    "\n",
    "feature_model = SelectKBest(score_func=chi2, k=20)\n",
    "fit = feature_model.fit(X,Y)\n",
    "features = fit.transform(X)\n"
   ]
  },
  {
   "cell_type": "code",
   "execution_count": null,
   "metadata": {},
   "outputs": [],
   "source": []
  },
  {
   "cell_type": "code",
   "execution_count": null,
   "metadata": {},
   "outputs": [],
   "source": []
  },
  {
   "cell_type": "code",
   "execution_count": null,
   "metadata": {},
   "outputs": [],
   "source": []
  },
  {
   "cell_type": "code",
   "execution_count": null,
   "metadata": {},
   "outputs": [],
   "source": []
  },
  {
   "cell_type": "code",
   "execution_count": null,
   "metadata": {},
   "outputs": [],
   "source": []
  },
  {
   "cell_type": "code",
   "execution_count": null,
   "metadata": {},
   "outputs": [],
   "source": []
  },
  {
   "cell_type": "code",
   "execution_count": null,
   "metadata": {},
   "outputs": [],
   "source": []
  }
 ],
 "metadata": {
  "kernelspec": {
   "display_name": "Python 3",
   "language": "python",
   "name": "python3"
  },
  "language_info": {
   "codemirror_mode": {
    "name": "ipython",
    "version": 3
   },
   "file_extension": ".py",
   "mimetype": "text/x-python",
   "name": "python",
   "nbconvert_exporter": "python",
   "pygments_lexer": "ipython3",
   "version": "3.6.6"
  }
 },
 "nbformat": 4,
 "nbformat_minor": 2
}
